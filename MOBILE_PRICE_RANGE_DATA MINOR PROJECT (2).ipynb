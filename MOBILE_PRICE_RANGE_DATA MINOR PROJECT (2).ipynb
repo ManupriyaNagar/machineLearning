{
 "cells": [
  {
   "cell_type": "markdown",
   "id": "81792b90",
   "metadata": {},
   "source": [
    "# Machine Learning November Minor Project\n",
    "## create a classification model to predict whether price range of mobile based on certain specification"
   ]
  },
  {
   "cell_type": "code",
   "execution_count": 1,
   "id": "04fcecf0",
   "metadata": {},
   "outputs": [],
   "source": [
    "import numpy as np\n",
    "import pandas as pd \n",
    "import matplotlib.pyplot as plt\n",
    "import seaborn as sns"
   ]
  },
  {
   "cell_type": "code",
   "execution_count": 2,
   "id": "14ea8a12",
   "metadata": {},
   "outputs": [
    {
     "data": {
      "text/html": [
       "<div>\n",
       "<style scoped>\n",
       "    .dataframe tbody tr th:only-of-type {\n",
       "        vertical-align: middle;\n",
       "    }\n",
       "\n",
       "    .dataframe tbody tr th {\n",
       "        vertical-align: top;\n",
       "    }\n",
       "\n",
       "    .dataframe thead th {\n",
       "        text-align: right;\n",
       "    }\n",
       "</style>\n",
       "<table border=\"1\" class=\"dataframe\">\n",
       "  <thead>\n",
       "    <tr style=\"text-align: right;\">\n",
       "      <th></th>\n",
       "      <th>battery_power</th>\n",
       "      <th>blue</th>\n",
       "      <th>clock_speed</th>\n",
       "      <th>dual_sim</th>\n",
       "      <th>fc</th>\n",
       "      <th>four_g</th>\n",
       "      <th>int_memory</th>\n",
       "      <th>m_dep</th>\n",
       "      <th>mobile_wt</th>\n",
       "      <th>n_cores</th>\n",
       "      <th>...</th>\n",
       "      <th>px_height</th>\n",
       "      <th>px_width</th>\n",
       "      <th>ram</th>\n",
       "      <th>sc_h</th>\n",
       "      <th>sc_w</th>\n",
       "      <th>talk_time</th>\n",
       "      <th>three_g</th>\n",
       "      <th>touch_screen</th>\n",
       "      <th>wifi</th>\n",
       "      <th>price_range</th>\n",
       "    </tr>\n",
       "  </thead>\n",
       "  <tbody>\n",
       "    <tr>\n",
       "      <th>0</th>\n",
       "      <td>842</td>\n",
       "      <td>0</td>\n",
       "      <td>2.2</td>\n",
       "      <td>0</td>\n",
       "      <td>1</td>\n",
       "      <td>0</td>\n",
       "      <td>7</td>\n",
       "      <td>0.6</td>\n",
       "      <td>188</td>\n",
       "      <td>2</td>\n",
       "      <td>...</td>\n",
       "      <td>20</td>\n",
       "      <td>756</td>\n",
       "      <td>2549</td>\n",
       "      <td>9</td>\n",
       "      <td>7</td>\n",
       "      <td>19</td>\n",
       "      <td>0</td>\n",
       "      <td>0</td>\n",
       "      <td>1</td>\n",
       "      <td>1</td>\n",
       "    </tr>\n",
       "    <tr>\n",
       "      <th>1</th>\n",
       "      <td>1021</td>\n",
       "      <td>1</td>\n",
       "      <td>0.5</td>\n",
       "      <td>1</td>\n",
       "      <td>0</td>\n",
       "      <td>1</td>\n",
       "      <td>53</td>\n",
       "      <td>0.7</td>\n",
       "      <td>136</td>\n",
       "      <td>3</td>\n",
       "      <td>...</td>\n",
       "      <td>905</td>\n",
       "      <td>1988</td>\n",
       "      <td>2631</td>\n",
       "      <td>17</td>\n",
       "      <td>3</td>\n",
       "      <td>7</td>\n",
       "      <td>1</td>\n",
       "      <td>1</td>\n",
       "      <td>0</td>\n",
       "      <td>2</td>\n",
       "    </tr>\n",
       "    <tr>\n",
       "      <th>2</th>\n",
       "      <td>563</td>\n",
       "      <td>1</td>\n",
       "      <td>0.5</td>\n",
       "      <td>1</td>\n",
       "      <td>2</td>\n",
       "      <td>1</td>\n",
       "      <td>41</td>\n",
       "      <td>0.9</td>\n",
       "      <td>145</td>\n",
       "      <td>5</td>\n",
       "      <td>...</td>\n",
       "      <td>1263</td>\n",
       "      <td>1716</td>\n",
       "      <td>2603</td>\n",
       "      <td>11</td>\n",
       "      <td>2</td>\n",
       "      <td>9</td>\n",
       "      <td>1</td>\n",
       "      <td>1</td>\n",
       "      <td>0</td>\n",
       "      <td>2</td>\n",
       "    </tr>\n",
       "    <tr>\n",
       "      <th>3</th>\n",
       "      <td>615</td>\n",
       "      <td>1</td>\n",
       "      <td>2.5</td>\n",
       "      <td>0</td>\n",
       "      <td>0</td>\n",
       "      <td>0</td>\n",
       "      <td>10</td>\n",
       "      <td>0.8</td>\n",
       "      <td>131</td>\n",
       "      <td>6</td>\n",
       "      <td>...</td>\n",
       "      <td>1216</td>\n",
       "      <td>1786</td>\n",
       "      <td>2769</td>\n",
       "      <td>16</td>\n",
       "      <td>8</td>\n",
       "      <td>11</td>\n",
       "      <td>1</td>\n",
       "      <td>0</td>\n",
       "      <td>0</td>\n",
       "      <td>2</td>\n",
       "    </tr>\n",
       "    <tr>\n",
       "      <th>4</th>\n",
       "      <td>1821</td>\n",
       "      <td>1</td>\n",
       "      <td>1.2</td>\n",
       "      <td>0</td>\n",
       "      <td>13</td>\n",
       "      <td>1</td>\n",
       "      <td>44</td>\n",
       "      <td>0.6</td>\n",
       "      <td>141</td>\n",
       "      <td>2</td>\n",
       "      <td>...</td>\n",
       "      <td>1208</td>\n",
       "      <td>1212</td>\n",
       "      <td>1411</td>\n",
       "      <td>8</td>\n",
       "      <td>2</td>\n",
       "      <td>15</td>\n",
       "      <td>1</td>\n",
       "      <td>1</td>\n",
       "      <td>0</td>\n",
       "      <td>1</td>\n",
       "    </tr>\n",
       "    <tr>\n",
       "      <th>...</th>\n",
       "      <td>...</td>\n",
       "      <td>...</td>\n",
       "      <td>...</td>\n",
       "      <td>...</td>\n",
       "      <td>...</td>\n",
       "      <td>...</td>\n",
       "      <td>...</td>\n",
       "      <td>...</td>\n",
       "      <td>...</td>\n",
       "      <td>...</td>\n",
       "      <td>...</td>\n",
       "      <td>...</td>\n",
       "      <td>...</td>\n",
       "      <td>...</td>\n",
       "      <td>...</td>\n",
       "      <td>...</td>\n",
       "      <td>...</td>\n",
       "      <td>...</td>\n",
       "      <td>...</td>\n",
       "      <td>...</td>\n",
       "      <td>...</td>\n",
       "    </tr>\n",
       "    <tr>\n",
       "      <th>1995</th>\n",
       "      <td>794</td>\n",
       "      <td>1</td>\n",
       "      <td>0.5</td>\n",
       "      <td>1</td>\n",
       "      <td>0</td>\n",
       "      <td>1</td>\n",
       "      <td>2</td>\n",
       "      <td>0.8</td>\n",
       "      <td>106</td>\n",
       "      <td>6</td>\n",
       "      <td>...</td>\n",
       "      <td>1222</td>\n",
       "      <td>1890</td>\n",
       "      <td>668</td>\n",
       "      <td>13</td>\n",
       "      <td>4</td>\n",
       "      <td>19</td>\n",
       "      <td>1</td>\n",
       "      <td>1</td>\n",
       "      <td>0</td>\n",
       "      <td>0</td>\n",
       "    </tr>\n",
       "    <tr>\n",
       "      <th>1996</th>\n",
       "      <td>1965</td>\n",
       "      <td>1</td>\n",
       "      <td>2.6</td>\n",
       "      <td>1</td>\n",
       "      <td>0</td>\n",
       "      <td>0</td>\n",
       "      <td>39</td>\n",
       "      <td>0.2</td>\n",
       "      <td>187</td>\n",
       "      <td>4</td>\n",
       "      <td>...</td>\n",
       "      <td>915</td>\n",
       "      <td>1965</td>\n",
       "      <td>2032</td>\n",
       "      <td>11</td>\n",
       "      <td>10</td>\n",
       "      <td>16</td>\n",
       "      <td>1</td>\n",
       "      <td>1</td>\n",
       "      <td>1</td>\n",
       "      <td>2</td>\n",
       "    </tr>\n",
       "    <tr>\n",
       "      <th>1997</th>\n",
       "      <td>1911</td>\n",
       "      <td>0</td>\n",
       "      <td>0.9</td>\n",
       "      <td>1</td>\n",
       "      <td>1</td>\n",
       "      <td>1</td>\n",
       "      <td>36</td>\n",
       "      <td>0.7</td>\n",
       "      <td>108</td>\n",
       "      <td>8</td>\n",
       "      <td>...</td>\n",
       "      <td>868</td>\n",
       "      <td>1632</td>\n",
       "      <td>3057</td>\n",
       "      <td>9</td>\n",
       "      <td>1</td>\n",
       "      <td>5</td>\n",
       "      <td>1</td>\n",
       "      <td>1</td>\n",
       "      <td>0</td>\n",
       "      <td>3</td>\n",
       "    </tr>\n",
       "    <tr>\n",
       "      <th>1998</th>\n",
       "      <td>1512</td>\n",
       "      <td>0</td>\n",
       "      <td>0.9</td>\n",
       "      <td>0</td>\n",
       "      <td>4</td>\n",
       "      <td>1</td>\n",
       "      <td>46</td>\n",
       "      <td>0.1</td>\n",
       "      <td>145</td>\n",
       "      <td>5</td>\n",
       "      <td>...</td>\n",
       "      <td>336</td>\n",
       "      <td>670</td>\n",
       "      <td>869</td>\n",
       "      <td>18</td>\n",
       "      <td>10</td>\n",
       "      <td>19</td>\n",
       "      <td>1</td>\n",
       "      <td>1</td>\n",
       "      <td>1</td>\n",
       "      <td>0</td>\n",
       "    </tr>\n",
       "    <tr>\n",
       "      <th>1999</th>\n",
       "      <td>510</td>\n",
       "      <td>1</td>\n",
       "      <td>2.0</td>\n",
       "      <td>1</td>\n",
       "      <td>5</td>\n",
       "      <td>1</td>\n",
       "      <td>45</td>\n",
       "      <td>0.9</td>\n",
       "      <td>168</td>\n",
       "      <td>6</td>\n",
       "      <td>...</td>\n",
       "      <td>483</td>\n",
       "      <td>754</td>\n",
       "      <td>3919</td>\n",
       "      <td>19</td>\n",
       "      <td>4</td>\n",
       "      <td>2</td>\n",
       "      <td>1</td>\n",
       "      <td>1</td>\n",
       "      <td>1</td>\n",
       "      <td>3</td>\n",
       "    </tr>\n",
       "  </tbody>\n",
       "</table>\n",
       "<p>2000 rows × 21 columns</p>\n",
       "</div>"
      ],
      "text/plain": [
       "      battery_power  blue  clock_speed  dual_sim  fc  four_g  int_memory  \\\n",
       "0               842     0          2.2         0   1       0           7   \n",
       "1              1021     1          0.5         1   0       1          53   \n",
       "2               563     1          0.5         1   2       1          41   \n",
       "3               615     1          2.5         0   0       0          10   \n",
       "4              1821     1          1.2         0  13       1          44   \n",
       "...             ...   ...          ...       ...  ..     ...         ...   \n",
       "1995            794     1          0.5         1   0       1           2   \n",
       "1996           1965     1          2.6         1   0       0          39   \n",
       "1997           1911     0          0.9         1   1       1          36   \n",
       "1998           1512     0          0.9         0   4       1          46   \n",
       "1999            510     1          2.0         1   5       1          45   \n",
       "\n",
       "      m_dep  mobile_wt  n_cores  ...  px_height  px_width   ram  sc_h  sc_w  \\\n",
       "0       0.6        188        2  ...         20       756  2549     9     7   \n",
       "1       0.7        136        3  ...        905      1988  2631    17     3   \n",
       "2       0.9        145        5  ...       1263      1716  2603    11     2   \n",
       "3       0.8        131        6  ...       1216      1786  2769    16     8   \n",
       "4       0.6        141        2  ...       1208      1212  1411     8     2   \n",
       "...     ...        ...      ...  ...        ...       ...   ...   ...   ...   \n",
       "1995    0.8        106        6  ...       1222      1890   668    13     4   \n",
       "1996    0.2        187        4  ...        915      1965  2032    11    10   \n",
       "1997    0.7        108        8  ...        868      1632  3057     9     1   \n",
       "1998    0.1        145        5  ...        336       670   869    18    10   \n",
       "1999    0.9        168        6  ...        483       754  3919    19     4   \n",
       "\n",
       "      talk_time  three_g  touch_screen  wifi  price_range  \n",
       "0            19        0             0     1            1  \n",
       "1             7        1             1     0            2  \n",
       "2             9        1             1     0            2  \n",
       "3            11        1             0     0            2  \n",
       "4            15        1             1     0            1  \n",
       "...         ...      ...           ...   ...          ...  \n",
       "1995         19        1             1     0            0  \n",
       "1996         16        1             1     1            2  \n",
       "1997          5        1             1     0            3  \n",
       "1998         19        1             1     1            0  \n",
       "1999          2        1             1     1            3  \n",
       "\n",
       "[2000 rows x 21 columns]"
      ]
     },
     "execution_count": 2,
     "metadata": {},
     "output_type": "execute_result"
    }
   ],
   "source": [
    "df=pd.read_csv(\"MOBILE.csv\")\n",
    "df"
   ]
  },
  {
   "cell_type": "code",
   "execution_count": 3,
   "id": "3502e202",
   "metadata": {},
   "outputs": [
    {
     "data": {
      "text/html": [
       "<div>\n",
       "<style scoped>\n",
       "    .dataframe tbody tr th:only-of-type {\n",
       "        vertical-align: middle;\n",
       "    }\n",
       "\n",
       "    .dataframe tbody tr th {\n",
       "        vertical-align: top;\n",
       "    }\n",
       "\n",
       "    .dataframe thead th {\n",
       "        text-align: right;\n",
       "    }\n",
       "</style>\n",
       "<table border=\"1\" class=\"dataframe\">\n",
       "  <thead>\n",
       "    <tr style=\"text-align: right;\">\n",
       "      <th></th>\n",
       "      <th>battery_power</th>\n",
       "      <th>blue</th>\n",
       "      <th>clock_speed</th>\n",
       "      <th>dual_sim</th>\n",
       "      <th>fc</th>\n",
       "      <th>four_g</th>\n",
       "      <th>int_memory</th>\n",
       "      <th>m_dep</th>\n",
       "      <th>mobile_wt</th>\n",
       "      <th>n_cores</th>\n",
       "      <th>...</th>\n",
       "      <th>px_height</th>\n",
       "      <th>px_width</th>\n",
       "      <th>ram</th>\n",
       "      <th>sc_h</th>\n",
       "      <th>sc_w</th>\n",
       "      <th>talk_time</th>\n",
       "      <th>three_g</th>\n",
       "      <th>touch_screen</th>\n",
       "      <th>wifi</th>\n",
       "      <th>price_range</th>\n",
       "    </tr>\n",
       "  </thead>\n",
       "  <tbody>\n",
       "    <tr>\n",
       "      <th>0</th>\n",
       "      <td>842</td>\n",
       "      <td>0</td>\n",
       "      <td>2.2</td>\n",
       "      <td>0</td>\n",
       "      <td>1</td>\n",
       "      <td>0</td>\n",
       "      <td>7</td>\n",
       "      <td>0.6</td>\n",
       "      <td>188</td>\n",
       "      <td>2</td>\n",
       "      <td>...</td>\n",
       "      <td>20</td>\n",
       "      <td>756</td>\n",
       "      <td>2549</td>\n",
       "      <td>9</td>\n",
       "      <td>7</td>\n",
       "      <td>19</td>\n",
       "      <td>0</td>\n",
       "      <td>0</td>\n",
       "      <td>1</td>\n",
       "      <td>1</td>\n",
       "    </tr>\n",
       "    <tr>\n",
       "      <th>1</th>\n",
       "      <td>1021</td>\n",
       "      <td>1</td>\n",
       "      <td>0.5</td>\n",
       "      <td>1</td>\n",
       "      <td>0</td>\n",
       "      <td>1</td>\n",
       "      <td>53</td>\n",
       "      <td>0.7</td>\n",
       "      <td>136</td>\n",
       "      <td>3</td>\n",
       "      <td>...</td>\n",
       "      <td>905</td>\n",
       "      <td>1988</td>\n",
       "      <td>2631</td>\n",
       "      <td>17</td>\n",
       "      <td>3</td>\n",
       "      <td>7</td>\n",
       "      <td>1</td>\n",
       "      <td>1</td>\n",
       "      <td>0</td>\n",
       "      <td>2</td>\n",
       "    </tr>\n",
       "    <tr>\n",
       "      <th>2</th>\n",
       "      <td>563</td>\n",
       "      <td>1</td>\n",
       "      <td>0.5</td>\n",
       "      <td>1</td>\n",
       "      <td>2</td>\n",
       "      <td>1</td>\n",
       "      <td>41</td>\n",
       "      <td>0.9</td>\n",
       "      <td>145</td>\n",
       "      <td>5</td>\n",
       "      <td>...</td>\n",
       "      <td>1263</td>\n",
       "      <td>1716</td>\n",
       "      <td>2603</td>\n",
       "      <td>11</td>\n",
       "      <td>2</td>\n",
       "      <td>9</td>\n",
       "      <td>1</td>\n",
       "      <td>1</td>\n",
       "      <td>0</td>\n",
       "      <td>2</td>\n",
       "    </tr>\n",
       "    <tr>\n",
       "      <th>3</th>\n",
       "      <td>615</td>\n",
       "      <td>1</td>\n",
       "      <td>2.5</td>\n",
       "      <td>0</td>\n",
       "      <td>0</td>\n",
       "      <td>0</td>\n",
       "      <td>10</td>\n",
       "      <td>0.8</td>\n",
       "      <td>131</td>\n",
       "      <td>6</td>\n",
       "      <td>...</td>\n",
       "      <td>1216</td>\n",
       "      <td>1786</td>\n",
       "      <td>2769</td>\n",
       "      <td>16</td>\n",
       "      <td>8</td>\n",
       "      <td>11</td>\n",
       "      <td>1</td>\n",
       "      <td>0</td>\n",
       "      <td>0</td>\n",
       "      <td>2</td>\n",
       "    </tr>\n",
       "    <tr>\n",
       "      <th>4</th>\n",
       "      <td>1821</td>\n",
       "      <td>1</td>\n",
       "      <td>1.2</td>\n",
       "      <td>0</td>\n",
       "      <td>13</td>\n",
       "      <td>1</td>\n",
       "      <td>44</td>\n",
       "      <td>0.6</td>\n",
       "      <td>141</td>\n",
       "      <td>2</td>\n",
       "      <td>...</td>\n",
       "      <td>1208</td>\n",
       "      <td>1212</td>\n",
       "      <td>1411</td>\n",
       "      <td>8</td>\n",
       "      <td>2</td>\n",
       "      <td>15</td>\n",
       "      <td>1</td>\n",
       "      <td>1</td>\n",
       "      <td>0</td>\n",
       "      <td>1</td>\n",
       "    </tr>\n",
       "  </tbody>\n",
       "</table>\n",
       "<p>5 rows × 21 columns</p>\n",
       "</div>"
      ],
      "text/plain": [
       "   battery_power  blue  clock_speed  dual_sim  fc  four_g  int_memory  m_dep  \\\n",
       "0            842     0          2.2         0   1       0           7    0.6   \n",
       "1           1021     1          0.5         1   0       1          53    0.7   \n",
       "2            563     1          0.5         1   2       1          41    0.9   \n",
       "3            615     1          2.5         0   0       0          10    0.8   \n",
       "4           1821     1          1.2         0  13       1          44    0.6   \n",
       "\n",
       "   mobile_wt  n_cores  ...  px_height  px_width   ram  sc_h  sc_w  talk_time  \\\n",
       "0        188        2  ...         20       756  2549     9     7         19   \n",
       "1        136        3  ...        905      1988  2631    17     3          7   \n",
       "2        145        5  ...       1263      1716  2603    11     2          9   \n",
       "3        131        6  ...       1216      1786  2769    16     8         11   \n",
       "4        141        2  ...       1208      1212  1411     8     2         15   \n",
       "\n",
       "   three_g  touch_screen  wifi  price_range  \n",
       "0        0             0     1            1  \n",
       "1        1             1     0            2  \n",
       "2        1             1     0            2  \n",
       "3        1             0     0            2  \n",
       "4        1             1     0            1  \n",
       "\n",
       "[5 rows x 21 columns]"
      ]
     },
     "execution_count": 3,
     "metadata": {},
     "output_type": "execute_result"
    }
   ],
   "source": [
    "df.head()"
   ]
  },
  {
   "cell_type": "code",
   "execution_count": 4,
   "id": "3494f177",
   "metadata": {},
   "outputs": [
    {
     "data": {
      "text/plain": [
       "(2000, 21)"
      ]
     },
     "execution_count": 4,
     "metadata": {},
     "output_type": "execute_result"
    }
   ],
   "source": [
    "df.shape"
   ]
  },
  {
   "cell_type": "markdown",
   "id": "583f8b35",
   "metadata": {},
   "source": [
    "### TARGET VARIABLE"
   ]
  },
  {
   "cell_type": "code",
   "execution_count": 5,
   "id": "81466eab",
   "metadata": {},
   "outputs": [
    {
     "data": {
      "text/plain": [
       "1    500\n",
       "2    500\n",
       "3    500\n",
       "0    500\n",
       "Name: price_range, dtype: int64"
      ]
     },
     "execution_count": 5,
     "metadata": {},
     "output_type": "execute_result"
    }
   ],
   "source": [
    "df['price_range'].value_counts()"
   ]
  },
  {
   "cell_type": "markdown",
   "id": "f89ae5f7",
   "metadata": {},
   "source": [
    "# 1) REMOVE HANDLE NULL VALUES(IF ANY)\n"
   ]
  },
  {
   "cell_type": "code",
   "execution_count": 6,
   "id": "67af79d5",
   "metadata": {},
   "outputs": [
    {
     "data": {
      "text/plain": [
       "battery_power    0\n",
       "blue             0\n",
       "clock_speed      0\n",
       "dual_sim         0\n",
       "fc               0\n",
       "four_g           0\n",
       "int_memory       0\n",
       "m_dep            0\n",
       "mobile_wt        0\n",
       "n_cores          0\n",
       "pc               0\n",
       "px_height        0\n",
       "px_width         0\n",
       "ram              0\n",
       "sc_h             0\n",
       "sc_w             0\n",
       "talk_time        0\n",
       "three_g          0\n",
       "touch_screen     0\n",
       "wifi             0\n",
       "price_range      0\n",
       "dtype: int64"
      ]
     },
     "execution_count": 6,
     "metadata": {},
     "output_type": "execute_result"
    }
   ],
   "source": [
    "df.isnull().sum()"
   ]
  },
  {
   "cell_type": "markdown",
   "id": "2a9229f6",
   "metadata": {},
   "source": [
    "### HANDLING DUPLICATES"
   ]
  },
  {
   "cell_type": "code",
   "execution_count": 7,
   "id": "68e9c1a0",
   "metadata": {},
   "outputs": [
    {
     "data": {
      "text/plain": [
       "0"
      ]
     },
     "execution_count": 7,
     "metadata": {},
     "output_type": "execute_result"
    }
   ],
   "source": [
    "df.duplicated().sum()"
   ]
  },
  {
   "cell_type": "code",
   "execution_count": 8,
   "id": "45b814b1",
   "metadata": {},
   "outputs": [],
   "source": [
    "df.drop_duplicates(inplace=True)"
   ]
  },
  {
   "cell_type": "code",
   "execution_count": 9,
   "id": "86e353c5",
   "metadata": {},
   "outputs": [
    {
     "data": {
      "text/plain": [
       "0"
      ]
     },
     "execution_count": 9,
     "metadata": {},
     "output_type": "execute_result"
    }
   ],
   "source": [
    "df.duplicated().sum()"
   ]
  },
  {
   "cell_type": "markdown",
   "id": "ae3fb359",
   "metadata": {},
   "source": [
    "### CHECKING DATATYPES"
   ]
  },
  {
   "cell_type": "code",
   "execution_count": 10,
   "id": "4206a483",
   "metadata": {},
   "outputs": [
    {
     "data": {
      "text/plain": [
       "battery_power      int64\n",
       "blue               int64\n",
       "clock_speed      float64\n",
       "dual_sim           int64\n",
       "fc                 int64\n",
       "four_g             int64\n",
       "int_memory         int64\n",
       "m_dep            float64\n",
       "mobile_wt          int64\n",
       "n_cores            int64\n",
       "pc                 int64\n",
       "px_height          int64\n",
       "px_width           int64\n",
       "ram                int64\n",
       "sc_h               int64\n",
       "sc_w               int64\n",
       "talk_time          int64\n",
       "three_g            int64\n",
       "touch_screen       int64\n",
       "wifi               int64\n",
       "price_range        int64\n",
       "dtype: object"
      ]
     },
     "execution_count": 10,
     "metadata": {},
     "output_type": "execute_result"
    }
   ],
   "source": [
    "df.dtypes"
   ]
  },
  {
   "cell_type": "code",
   "execution_count": 11,
   "id": "b43b126f",
   "metadata": {},
   "outputs": [
    {
     "data": {
      "image/png": "[encoded data removed]",
      "text/plain": [
       "<Figure size 864x432 with 2 Axes>"
      ]
     },
     "metadata": {
      "needs_background": "light"
     },
     "output_type": "display_data"
    }
   ],
   "source": [
    "plt.figure(figsize = (12,6))\n",
    "sns.heatmap(df.corr())\n",
    "plt.show()"
   ]
  },
  {
   "cell_type": "markdown",
   "id": "27c38f40",
   "metadata": {},
   "source": [
    "### selecting dependent(x) and independent(y) variables"
   ]
  },
  {
   "cell_type": "code",
   "execution_count": 12,
   "id": "df81170a",
   "metadata": {},
   "outputs": [
    {
     "name": "stdout",
     "output_type": "stream",
     "text": [
      "<class 'pandas.core.frame.DataFrame'>\n",
      "<class 'pandas.core.series.Series'>\n",
      "(2000, 20)\n",
      "(2000,)\n"
     ]
    }
   ],
   "source": [
    "x=df.drop('price_range',axis=1)\n",
    "y=df['price_range']\n",
    "print(type(x))\n",
    "print(type(y))\n",
    "print(x.shape)\n",
    "print(y.shape)"
   ]
  },
  {
   "cell_type": "code",
   "execution_count": 13,
   "id": "2bb2b46e",
   "metadata": {},
   "outputs": [
    {
     "data": {
      "image/png": "[encoded data removed]",
      "text/plain": [
       "<Figure size 432x288 with 2 Axes>"
      ]
     },
     "metadata": {
      "needs_background": "light"
     },
     "output_type": "display_data"
    }
   ],
   "source": [
    "plt.subplot(1,2,1)\n",
    "sns.barplot(x = 'price_range', y = 'px_height', data=df, palette = 'Reds')\n",
    "plt.subplot(1,2,2)\n",
    "sns.barplot(x = 'price_range', y = 'px_width', data=df , palette = 'Blues')\n",
    "plt.show()"
   ]
  },
  {
   "cell_type": "markdown",
   "id": "caddcb4b",
   "metadata": {},
   "source": [
    "x=df.drop('price_range',axis=1)\n",
    "y=df['price_range']\n",
    "print(type(x))\n",
    "print(type(y))\n",
    "print(x.shape)\n",
    "print(y.shape)\n",
    "#x-tarin , y_train"
   ]
  },
  {
   "cell_type": "markdown",
   "id": "50e080a5",
   "metadata": {},
   "source": [
    "# #2) spliting data into training and test data"
   ]
  },
  {
   "cell_type": "code",
   "execution_count": 14,
   "id": "0a2e0e9c",
   "metadata": {},
   "outputs": [],
   "source": [
    "from sklearn.model_selection import train_test_split"
   ]
  },
  {
   "cell_type": "code",
   "execution_count": 15,
   "id": "e72f938f",
   "metadata": {},
   "outputs": [
    {
     "name": "stdout",
     "output_type": "stream",
     "text": [
      "500.0\n"
     ]
    }
   ],
   "source": [
    "print(2000*0.25)"
   ]
  },
  {
   "cell_type": "code",
   "execution_count": 16,
   "id": "af88e2db",
   "metadata": {},
   "outputs": [
    {
     "name": "stdout",
     "output_type": "stream",
     "text": [
      "(1500, 20)\n",
      "(500, 20)\n",
      "(1500,)\n",
      "(500,)\n"
     ]
    }
   ],
   "source": [
    "x_train,x_test,y_train,y_test=train_test_split(x,y,test_size=0.25,random_state=42)\n",
    "print(x_train.shape)\n",
    "print(x_test.shape)\n",
    "print(y_train.shape)\n",
    "print(y_test.shape) "
   ]
  },
  {
   "cell_type": "code",
   "execution_count": 17,
   "id": "4c366c19",
   "metadata": {},
   "outputs": [
    {
     "data": {
      "image/png": "[encoded data removed]",
      "text/plain": [
       "<Figure size 864x432 with 1 Axes>"
      ]
     },
     "metadata": {
      "needs_background": "light"
     },
     "output_type": "display_data"
    }
   ],
   "source": [
    "plt.figure(figsize = (12,6))\n",
    "sns.barplot(x = 'price_range', y = 'ram',data=df)\n",
    "plt.show()"
   ]
  },
  {
   "cell_type": "code",
   "execution_count": null,
   "id": "e5c7e965",
   "metadata": {},
   "outputs": [],
   "source": []
  },
  {
   "cell_type": "code",
   "execution_count": 18,
   "id": "8673463a",
   "metadata": {},
   "outputs": [
    {
     "name": "stderr",
     "output_type": "stream",
     "text": [
      "C:\\Users\\Manupriya\\anaconda3\\lib\\site-packages\\seaborn\\_decorators.py:36: FutureWarning: Pass the following variable as a keyword arg: x. From version 0.12, the only valid positional argument will be `data`, and passing other arguments without an explicit keyword will result in an error or misinterpretation.\n",
      "  warnings.warn(\n"
     ]
    },
    {
     "data": {
      "image/png": "[encoded data removed]",
      "text/plain": [
       "<Figure size 864x432 with 1 Axes>"
      ]
     },
     "metadata": {
      "needs_background": "light"
     },
     "output_type": "display_data"
    }
   ],
   "source": [
    "plt.figure(figsize = (12,6))\n",
    "sns.countplot(df['three_g'] , hue = df['price_range'] , palette = 'pink')\n",
    "plt.show()"
   ]
  },
  {
   "cell_type": "markdown",
   "id": "5b530940",
   "metadata": {},
   "source": [
    "### CONFUSION MATRIX"
   ]
  },
  {
   "cell_type": "code",
   "execution_count": 19,
   "id": "aa92457c",
   "metadata": {},
   "outputs": [],
   "source": [
    "from sklearn.metrics import confusion_matrix,classification_report\n"
   ]
  },
  {
   "cell_type": "code",
   "execution_count": 20,
   "id": "82b8c07b",
   "metadata": {},
   "outputs": [],
   "source": [
    "def eval_model(ytest,ypred):\n",
    "    cm=confusion_matrix(ytest,ypred)\n",
    "    print(cm)\n",
    "    print(classification_report(ytest,ypred))\n",
    "def nscore(model):\n",
    "    print('training score', model.score(x_train,y_train))\n",
    "    print('testing score',model.score(x_test,y_test))"
   ]
  },
  {
   "cell_type": "code",
   "execution_count": 21,
   "id": "394d7389",
   "metadata": {},
   "outputs": [
    {
     "name": "stderr",
     "output_type": "stream",
     "text": [
      "C:\\Users\\Manupriya\\anaconda3\\lib\\site-packages\\seaborn\\_decorators.py:36: FutureWarning: Pass the following variable as a keyword arg: x. From version 0.12, the only valid positional argument will be `data`, and passing other arguments without an explicit keyword will result in an error or misinterpretation.\n",
      "  warnings.warn(\n"
     ]
    },
    {
     "data": {
      "image/png": "[encoded data removed]",
      "text/plain": [
       "<Figure size 864x432 with 1 Axes>"
      ]
     },
     "metadata": {
      "needs_background": "light"
     },
     "output_type": "display_data"
    }
   ],
   "source": [
    "plt.figure(figsize = (12,6))\n",
    "sns.countplot(df['four_g'] , hue = df['price_range'] , palette = 'ocean')\n",
    "plt.show()"
   ]
  },
  {
   "cell_type": "code",
   "execution_count": null,
   "id": "639d4fa0",
   "metadata": {},
   "outputs": [],
   "source": []
  },
  {
   "cell_type": "markdown",
   "id": "95fea4e2",
   "metadata": {},
   "source": [
    "# #3 Apply the following models on the training dataset and generate the predicted value for the test dataset\n",
    "\n",
    "# (a) LOGISTIC REGRESSION\n",
    "\n"
   ]
  },
  {
   "cell_type": "code",
   "execution_count": 22,
   "id": "21ec5184",
   "metadata": {},
   "outputs": [],
   "source": [
    "import pandas as pd\n",
    "import numpy as np\n",
    "import matplotlib.pyplot as plt"
   ]
  },
  {
   "cell_type": "code",
   "execution_count": 23,
   "id": "bd982d05",
   "metadata": {},
   "outputs": [],
   "source": [
    "from sklearn.linear_model import LogisticRegression  "
   ]
  },
  {
   "cell_type": "code",
   "execution_count": 24,
   "id": "e76e207e",
   "metadata": {},
   "outputs": [
    {
     "data": {
      "text/plain": [
       "LogisticRegression(max_iter=10000, solver='liblinear')"
      ]
     },
     "execution_count": 24,
     "metadata": {},
     "output_type": "execute_result"
    }
   ],
   "source": [
    " #applying linear regression\n",
    "m1=LogisticRegression(max_iter=10000,solver=\"liblinear\")\n",
    "m1.fit(x_train,y_train)"
   ]
  },
  {
   "cell_type": "code",
   "execution_count": 25,
   "id": "ea68b4c2",
   "metadata": {},
   "outputs": [
    {
     "name": "stdout",
     "output_type": "stream",
     "text": [
      "train score 0.7946666666666666\n",
      "train score 0.782\n"
     ]
    }
   ],
   "source": [
    "#Accuracy\n",
    "print('train score',m1.score(x_train,y_train))\n",
    "print('train score',m1.score(x_test,y_test))"
   ]
  },
  {
   "cell_type": "code",
   "execution_count": 26,
   "id": "2ca5edab",
   "metadata": {},
   "outputs": [
    {
     "name": "stdout",
     "output_type": "stream",
     "text": [
      "training score 0.7946666666666666\n",
      "testing score 0.782\n"
     ]
    }
   ],
   "source": [
    "nscore(m1)"
   ]
  },
  {
   "cell_type": "code",
   "execution_count": 27,
   "id": "c06cc273",
   "metadata": {},
   "outputs": [
    {
     "name": "stdout",
     "output_type": "stream",
     "text": [
      "[0 2 0 3 1 2 2 0 3 1 0 1 1 3 3 2 3 3 1 0 0 1 2 2 0 2 3 3 2 0 0 0 3 0 2 1 2\n",
      " 0 3 0 2 3 3 0 2 3 1 1 3 1 3 1 0 0 1 2 2 3 0 0 1 3 3 2 1 0 3 3 2 2 2 1 0 1\n",
      " 3 0 1 3 1 1 3 1 2 0 1 3 2 3 3 0 3 3 2 1 3 2 2 3 2 1 0 0 1 0 0 3 2 0 2 1 0\n",
      " 0 3 1 3 2 3 3 0 2 1 3 3 2 3 3 0 3 0 2 3 0 1 3 0 3 1 0 0 2 3 1 3 3 0 0 0 2\n",
      " 2 2 3 1 1 0 2 3 0 1 0 1 2 3 3 1 1 0 0 2 2 3 3 0 0 0 3 1 2 2 1 0 0 0 0 0 3\n",
      " 2 0 3 0 0 0 0 1 3 3 1 0 1 2 0 1 2 1 3 3 3 1 2 0 0 0 1 1 1 3 1 1 2 1 1 3 1\n",
      " 3 0 0 2 0 3 0 0 1 0 1 3 2 1 1 2 3 0 2 3 2 3 0 3 1 3 3 3 2 1 0 3 3 1 3 3 3\n",
      " 3 3 0 1 2 3 2 3 0 2 3 2 3 2 0 0 2 0 3 3 1 3 2 0 3 1 2 0 0 3 0 1 2 3 3 3 0\n",
      " 1 0 0 3 3 0 1 2 2 0 3 3 2 3 1 3 3 0 2 1 2 2 0 0 0 3 3 3 1 0 1 0 2 3 2 0 2\n",
      " 3 2 1 3 0 0 3 1 3 1 0 1 1 2 1 2 3 1 0 1 2 3 0 3 0 0 1 0 2 2 2 2 3 0 3 2 3\n",
      " 3 3 3 3 1 2 0 3 2 3 3 0 2 3 1 3 3 3 1 0 2 3 0 0 2 3 2 1 2 2 1 3 0 3 1 3 0\n",
      " 0 1 0 1 0 2 0 2 3 3 1 2 1 3 1 1 3 1 0 0 3 0 2 0 0 2 3 3 0 2 0 1 2 3 3 0 3\n",
      " 0 2 0 0 3 3 0 2 1 2 3 2 1 0 1 3 1 0 3 1 0 0 3 2 3 2 0 3 2 0 1 2 3 2 1 0 0\n",
      " 0 2 3 1 0 2 3 1 3 1 2 2 3 0 0 1 2 3 1]\n"
     ]
    }
   ],
   "source": [
    "ypred_m1=m1.predict(x_test)\n",
    "print(ypred_m1)"
   ]
  },
  {
   "cell_type": "code",
   "execution_count": 28,
   "id": "adb6a438",
   "metadata": {},
   "outputs": [
    {
     "name": "stdout",
     "output_type": "stream",
     "text": [
      "[[124   7   1   0]\n",
      " [ 13  72  33   0]\n",
      " [  0  25  69  26]\n",
      " [  0   0   4 126]]\n",
      "              precision    recall  f1-score   support\n",
      "\n",
      "           0       0.91      0.94      0.92       132\n",
      "           1       0.69      0.61      0.65       118\n",
      "           2       0.64      0.57      0.61       120\n",
      "           3       0.83      0.97      0.89       130\n",
      "\n",
      "    accuracy                           0.78       500\n",
      "   macro avg       0.77      0.77      0.77       500\n",
      "weighted avg       0.77      0.78      0.77       500\n",
      "\n"
     ]
    }
   ],
   "source": [
    "ypred_m1=m1.predict(x_test)\n",
    "eval_model(y_test,ypred_m1)"
   ]
  },
  {
   "cell_type": "code",
   "execution_count": 29,
   "id": "b282c7d8",
   "metadata": {},
   "outputs": [],
   "source": [
    "from sklearn.metrics import confusion_matrix,classification_report"
   ]
  },
  {
   "cell_type": "code",
   "execution_count": 30,
   "id": "37c8c43e",
   "metadata": {},
   "outputs": [
    {
     "name": "stdout",
     "output_type": "stream",
     "text": [
      "[[124   7   1   0]\n",
      " [ 13  72  33   0]\n",
      " [  0  25  69  26]\n",
      " [  0   0   4 126]]\n",
      "              precision    recall  f1-score   support\n",
      "\n",
      "           0       0.91      0.94      0.92       132\n",
      "           1       0.69      0.61      0.65       118\n",
      "           2       0.64      0.57      0.61       120\n",
      "           3       0.83      0.97      0.89       130\n",
      "\n",
      "    accuracy                           0.78       500\n",
      "   macro avg       0.77      0.77      0.77       500\n",
      "weighted avg       0.77      0.78      0.77       500\n",
      "\n"
     ]
    }
   ],
   "source": [
    "print(confusion_matrix(y_test,ypred_m1))\n",
    "print(classification_report(y_test,ypred_m1))"
   ]
  },
  {
   "cell_type": "code",
   "execution_count": 31,
   "id": "c9c36923",
   "metadata": {},
   "outputs": [
    {
     "name": "stdout",
     "output_type": "stream",
     "text": [
      "train score 0.782\n"
     ]
    }
   ],
   "source": [
    "print('train score',m1.score(x_test,y_test))"
   ]
  },
  {
   "cell_type": "markdown",
   "id": "7c414d0b",
   "metadata": {},
   "source": [
    "# (b)KNN classification"
   ]
  },
  {
   "cell_type": "code",
   "execution_count": 32,
   "id": "15b82df3",
   "metadata": {},
   "outputs": [],
   "source": [
    "from sklearn.neighbors import KNeighborsClassifier\n"
   ]
  },
  {
   "cell_type": "code",
   "execution_count": 33,
   "id": "43b4899b",
   "metadata": {},
   "outputs": [
    {
     "data": {
      "text/plain": [
       "KNeighborsClassifier(n_neighbors=11)"
      ]
     },
     "execution_count": 33,
     "metadata": {},
     "output_type": "execute_result"
    }
   ],
   "source": [
    "m2=KNeighborsClassifier(n_neighbors=11)\n",
    "m2.fit(x_train,y_train)"
   ]
  },
  {
   "cell_type": "code",
   "execution_count": 34,
   "id": "f0b4c955",
   "metadata": {},
   "outputs": [
    {
     "name": "stdout",
     "output_type": "stream",
     "text": [
      "train score 0.952\n",
      "train score 0.938\n"
     ]
    }
   ],
   "source": [
    "#Accuracy\n",
    "print('train score',m2.score(x_train,y_train))\n",
    "print('train score',m2.score(x_test,y_test))"
   ]
  },
  {
   "cell_type": "code",
   "execution_count": 35,
   "id": "bbd848e8",
   "metadata": {},
   "outputs": [
    {
     "name": "stdout",
     "output_type": "stream",
     "text": [
      "[0 2 1 3 1 1 2 0 3 1 0 1 2 3 2 2 3 3 1 0 0 1 1 2 0 1 3 2 2 0 0 0 3 0 1 1 2\n",
      " 0 3 0 2 2 2 0 3 2 2 1 3 1 3 1 0 0 0 1 1 3 0 0 1 3 3 1 0 0 3 3 1 2 2 2 0 1\n",
      " 2 0 0 3 2 1 3 2 1 0 1 3 1 3 3 0 3 3 2 1 3 2 2 3 1 1 0 0 1 0 0 3 2 0 1 1 0\n",
      " 0 3 1 3 2 3 2 0 2 1 3 2 1 3 3 0 2 0 2 3 0 2 2 0 3 1 0 0 2 2 1 2 2 0 0 0 1\n",
      " 1 2 3 1 1 0 2 2 0 1 0 2 2 3 3 2 1 0 1 2 2 3 3 0 1 0 3 1 1 2 1 0 0 0 0 0 3\n",
      " 2 0 3 0 0 0 0 1 3 3 1 0 1 1 1 1 1 2 3 3 3 1 2 0 0 0 2 1 1 3 1 0 2 1 1 3 2\n",
      " 3 0 0 2 1 3 0 1 2 0 2 3 2 0 1 3 3 0 1 3 2 3 0 3 1 2 3 3 2 1 1 3 3 1 3 3 3\n",
      " 3 3 0 2 2 2 1 3 0 1 3 2 2 2 1 0 1 0 3 3 1 3 1 0 3 1 2 0 0 3 0 1 2 3 3 3 1\n",
      " 1 0 1 3 3 0 1 2 2 0 3 3 2 3 2 3 2 0 2 1 1 1 0 0 0 3 2 3 1 0 1 0 1 2 3 0 3\n",
      " 3 2 1 2 0 0 2 1 3 2 0 1 1 1 0 1 3 2 0 0 3 3 0 3 0 0 2 0 1 2 2 2 3 0 3 2 2\n",
      " 3 3 3 2 1 1 0 3 1 3 3 0 2 3 2 3 3 3 0 0 2 3 0 0 2 3 2 1 1 2 1 2 1 3 1 2 0\n",
      " 0 1 0 1 0 1 0 2 2 3 2 1 1 3 1 0 3 1 0 0 3 0 1 0 0 1 3 3 0 2 0 1 1 3 3 1 2\n",
      " 0 2 0 0 3 3 0 2 2 1 3 1 2 0 1 3 1 0 3 1 0 0 3 2 3 2 0 2 1 0 1 2 3 2 1 1 0\n",
      " 1 2 2 1 1 1 3 1 2 0 2 2 3 1 0 1 2 3 1]\n"
     ]
    }
   ],
   "source": [
    "ypred_m2=m2.predict(x_test)\n",
    "print(ypred_m2)"
   ]
  },
  {
   "cell_type": "code",
   "execution_count": 36,
   "id": "d2083521",
   "metadata": {},
   "outputs": [],
   "source": [
    "from sklearn.metrics import confusion_matrix,classification_report"
   ]
  },
  {
   "cell_type": "code",
   "execution_count": 37,
   "id": "324049c0",
   "metadata": {},
   "outputs": [
    {
     "name": "stdout",
     "output_type": "stream",
     "text": [
      "[[127   5   0   0]\n",
      " [  4 113   1   0]\n",
      " [  0  11 106   3]\n",
      " [  0   0   7 123]]\n",
      "              precision    recall  f1-score   support\n",
      "\n",
      "           0       0.97      0.96      0.97       132\n",
      "           1       0.88      0.96      0.91       118\n",
      "           2       0.93      0.88      0.91       120\n",
      "           3       0.98      0.95      0.96       130\n",
      "\n",
      "    accuracy                           0.94       500\n",
      "   macro avg       0.94      0.94      0.94       500\n",
      "weighted avg       0.94      0.94      0.94       500\n",
      "\n"
     ]
    }
   ],
   "source": [
    "print(confusion_matrix(y_test,ypred_m2))\n",
    "print(classification_report(y_test,ypred_m2))"
   ]
  },
  {
   "cell_type": "code",
   "execution_count": 38,
   "id": "bac0430a",
   "metadata": {},
   "outputs": [
    {
     "name": "stdout",
     "output_type": "stream",
     "text": [
      "train score 0.938\n"
     ]
    }
   ],
   "source": [
    "print('train score',m2.score(x_test,y_test))"
   ]
  },
  {
   "cell_type": "markdown",
   "id": "c99e4956",
   "metadata": {},
   "source": [
    "# (c) SVM classifier with linear and rbf kernal\n"
   ]
  },
  {
   "cell_type": "code",
   "execution_count": 39,
   "id": "9bf791f9",
   "metadata": {},
   "outputs": [],
   "source": [
    "from sklearn.svm import SVC"
   ]
  },
  {
   "cell_type": "code",
   "execution_count": 40,
   "id": "02fa97b1",
   "metadata": {},
   "outputs": [],
   "source": [
    "m3=SVC(kernel='linear')\n"
   ]
  },
  {
   "cell_type": "code",
   "execution_count": 41,
   "id": "3c73935e",
   "metadata": {},
   "outputs": [
    {
     "data": {
      "text/plain": [
       "SVC(kernel='linear')"
      ]
     },
     "execution_count": 41,
     "metadata": {},
     "output_type": "execute_result"
    }
   ],
   "source": [
    "m3.fit(x_train,y_train)"
   ]
  },
  {
   "cell_type": "code",
   "execution_count": 42,
   "id": "b9711c82",
   "metadata": {},
   "outputs": [
    {
     "name": "stdout",
     "output_type": "stream",
     "text": [
      "training score 0.992\n",
      "testing score 0.97\n"
     ]
    }
   ],
   "source": [
    "nscore(m3)"
   ]
  },
  {
   "cell_type": "code",
   "execution_count": 43,
   "id": "07cfa550",
   "metadata": {},
   "outputs": [
    {
     "name": "stdout",
     "output_type": "stream",
     "text": [
      "train score 0.992\n",
      "train score 0.97\n"
     ]
    }
   ],
   "source": [
    "#Accuracy\n",
    "print('train score',m3.score(x_train,y_train))\n",
    "print('train score',m3.score(x_test,y_test))"
   ]
  },
  {
   "cell_type": "code",
   "execution_count": 44,
   "id": "38b1aa51",
   "metadata": {},
   "outputs": [
    {
     "name": "stdout",
     "output_type": "stream",
     "text": [
      "[0 2 1 3 1 1 2 0 3 1 0 1 2 3 3 2 3 3 1 0 0 2 1 2 0 1 3 2 2 0 0 0 3 0 1 1 2\n",
      " 0 3 0 2 3 2 0 3 3 2 1 3 1 3 1 0 0 1 1 1 3 0 0 1 3 3 1 0 0 3 3 1 2 2 2 0 1\n",
      " 2 0 1 3 2 2 3 2 1 0 1 3 1 3 3 0 3 3 2 1 3 2 2 3 1 1 0 0 1 0 1 3 2 0 1 1 0\n",
      " 0 3 1 3 2 3 2 0 2 1 3 2 1 3 3 0 2 0 2 3 0 2 2 0 3 1 0 0 2 2 1 2 2 0 0 0 1\n",
      " 1 2 3 1 1 0 2 2 0 1 0 2 2 3 3 3 1 0 1 2 2 3 3 0 1 0 3 1 1 2 1 0 0 0 0 0 3\n",
      " 2 0 3 0 0 0 0 1 3 3 1 0 1 1 1 1 2 2 3 3 3 1 2 0 0 0 2 1 1 3 1 1 2 1 1 3 2\n",
      " 3 0 0 2 1 3 0 1 2 0 2 3 2 0 1 3 3 0 1 3 3 3 0 3 1 2 3 3 2 1 0 3 3 1 3 3 3\n",
      " 3 3 0 1 2 2 2 3 0 2 3 2 2 2 1 0 2 0 3 3 1 3 1 1 3 1 2 0 0 3 0 1 2 3 3 3 1\n",
      " 1 0 1 3 3 0 1 2 2 0 3 3 2 3 2 3 2 0 2 1 1 1 0 0 0 3 3 3 1 0 1 0 1 2 3 0 3\n",
      " 3 2 1 3 0 0 2 1 3 2 0 1 1 1 1 1 3 2 0 0 3 3 0 3 0 0 2 0 1 2 2 2 3 0 3 2 3\n",
      " 3 3 3 2 1 1 0 3 1 3 3 0 2 3 2 3 3 3 0 0 2 3 0 0 2 3 2 1 1 2 1 3 0 3 1 2 0\n",
      " 0 1 0 1 0 1 0 2 2 3 2 1 1 2 1 1 3 1 0 0 3 0 1 0 0 2 3 3 0 2 0 1 1 3 3 1 2\n",
      " 0 2 0 0 3 3 0 2 2 2 3 1 2 0 1 3 1 0 3 1 0 0 3 2 3 2 0 2 1 0 1 2 3 2 1 1 0\n",
      " 1 2 2 1 0 1 3 1 2 0 2 2 3 0 0 1 2 3 1]\n"
     ]
    }
   ],
   "source": [
    "ypred_m3=m3.predict(x_test)\n",
    "print(ypred_m3)"
   ]
  },
  {
   "cell_type": "code",
   "execution_count": 45,
   "id": "66dc16de",
   "metadata": {},
   "outputs": [],
   "source": [
    "from sklearn.metrics import confusion_matrix,classification_report"
   ]
  },
  {
   "cell_type": "code",
   "execution_count": 46,
   "id": "9c2ea31c",
   "metadata": {},
   "outputs": [
    {
     "name": "stdout",
     "output_type": "stream",
     "text": [
      "[[127   5   0   0]\n",
      " [  1 117   0   0]\n",
      " [  0   3 112   5]\n",
      " [  0   0   1 129]]\n",
      "              precision    recall  f1-score   support\n",
      "\n",
      "           0       0.99      0.96      0.98       132\n",
      "           1       0.94      0.99      0.96       118\n",
      "           2       0.99      0.93      0.96       120\n",
      "           3       0.96      0.99      0.98       130\n",
      "\n",
      "    accuracy                           0.97       500\n",
      "   macro avg       0.97      0.97      0.97       500\n",
      "weighted avg       0.97      0.97      0.97       500\n",
      "\n"
     ]
    }
   ],
   "source": [
    "print(confusion_matrix(y_test,ypred_m3))\n",
    "print(classification_report(y_test,ypred_m3))"
   ]
  },
  {
   "cell_type": "code",
   "execution_count": 47,
   "id": "1553bfd7",
   "metadata": {},
   "outputs": [
    {
     "name": "stdout",
     "output_type": "stream",
     "text": [
      "train score 0.97\n"
     ]
    }
   ],
   "source": [
    "print('train score',m3.score(x_test,y_test))"
   ]
  },
  {
   "cell_type": "markdown",
   "id": "278a84c7",
   "metadata": {},
   "source": [
    "# (d)Decision Tree Classifier\n",
    "\n"
   ]
  },
  {
   "cell_type": "code",
   "execution_count": 69,
   "id": "961480bf",
   "metadata": {},
   "outputs": [],
   "source": [
    "#(d)Decision Tree Classifier\n",
    "from sklearn.tree import DecisionTreeClassifier\n"
   ]
  },
  {
   "cell_type": "code",
   "execution_count": 70,
   "id": "b7388a1a",
   "metadata": {},
   "outputs": [
    {
     "data": {
      "text/plain": [
       "DecisionTreeClassifier(criterion='entropy', max_depth=5)"
      ]
     },
     "execution_count": 70,
     "metadata": {},
     "output_type": "execute_result"
    }
   ],
   "source": [
    "m4 = DecisionTreeClassifier(criterion='entropy',max_depth=5)\n",
    "m4.fit(x_train,y_train)"
   ]
  },
  {
   "cell_type": "code",
   "execution_count": 71,
   "id": "ff52c55e",
   "metadata": {},
   "outputs": [
    {
     "name": "stdout",
     "output_type": "stream",
     "text": [
      "training score 0.8793333333333333\n",
      "testing score 0.826\n"
     ]
    }
   ],
   "source": [
    "nscore(m4)"
   ]
  },
  {
   "cell_type": "code",
   "execution_count": 72,
   "id": "b5a85a29",
   "metadata": {},
   "outputs": [
    {
     "name": "stdout",
     "output_type": "stream",
     "text": [
      "[[121  11   0   0]\n",
      " [ 11  97  10   0]\n",
      " [  0  19  82  19]\n",
      " [  0   0  17 113]]\n",
      "              precision    recall  f1-score   support\n",
      "\n",
      "           0       0.92      0.92      0.92       132\n",
      "           1       0.76      0.82      0.79       118\n",
      "           2       0.75      0.68      0.72       120\n",
      "           3       0.86      0.87      0.86       130\n",
      "\n",
      "    accuracy                           0.83       500\n",
      "   macro avg       0.82      0.82      0.82       500\n",
      "weighted avg       0.83      0.83      0.83       500\n",
      "\n"
     ]
    }
   ],
   "source": [
    "ypred_m4=m4.predict(x_test)\n",
    "eval_model(y_test,ypred_m4)"
   ]
  },
  {
   "cell_type": "code",
   "execution_count": 73,
   "id": "614312ea",
   "metadata": {},
   "outputs": [
    {
     "name": "stdout",
     "output_type": "stream",
     "text": [
      "train score 0.8793333333333333\n",
      "train score 0.826\n"
     ]
    }
   ],
   "source": [
    "#Accuracy\n",
    "print('train score',m4.score(x_train,y_train))\n",
    "print('train score',m4.score(x_test,y_test))"
   ]
  },
  {
   "cell_type": "code",
   "execution_count": 74,
   "id": "a6106e5e",
   "metadata": {},
   "outputs": [
    {
     "name": "stdout",
     "output_type": "stream",
     "text": [
      "[0 1 1 3 1 1 2 0 2 1 0 1 2 3 2 2 3 3 1 0 0 2 1 2 0 1 2 2 2 0 0 0 3 0 1 1 3\n",
      " 0 3 0 1 3 2 0 2 2 2 1 3 1 3 1 0 0 1 1 1 2 0 0 0 3 3 1 0 0 3 3 1 2 1 2 0 1\n",
      " 3 0 1 3 2 1 3 2 1 0 2 3 2 3 3 0 2 3 1 1 3 2 2 3 1 1 0 0 0 0 0 3 2 0 1 1 0\n",
      " 0 2 1 2 2 2 3 0 2 1 3 1 1 3 3 0 3 0 2 3 0 2 2 0 2 1 0 0 2 3 1 3 3 0 0 0 1\n",
      " 2 3 3 2 0 0 2 2 0 2 0 1 2 3 2 3 1 0 0 2 2 3 3 1 1 0 3 1 1 2 1 0 0 0 0 0 3\n",
      " 2 0 3 0 0 0 0 1 3 2 2 0 0 1 1 1 2 2 2 3 3 1 2 0 0 0 2 1 1 3 1 1 2 1 1 3 2\n",
      " 3 0 0 1 1 3 0 0 1 0 2 3 2 1 1 3 3 0 1 3 3 3 0 3 1 2 3 3 2 1 1 3 3 1 3 3 3\n",
      " 3 3 0 1 2 3 1 3 0 1 3 2 2 2 1 0 1 0 2 3 1 3 1 0 3 1 2 0 0 3 0 1 2 3 3 3 1\n",
      " 1 0 1 3 3 0 2 2 2 0 3 3 2 3 2 3 2 0 2 1 1 1 0 0 0 3 2 3 2 0 1 0 2 3 3 1 2\n",
      " 3 2 1 3 0 0 3 1 3 2 0 1 1 1 0 1 3 1 0 0 3 3 0 3 0 0 2 0 1 2 2 2 3 0 3 2 2\n",
      " 3 3 3 2 1 1 0 3 1 3 3 0 2 3 1 3 3 3 0 0 2 3 0 0 2 3 1 1 1 2 2 3 1 3 2 2 0\n",
      " 1 1 0 1 0 1 0 2 2 3 2 1 1 3 1 1 3 1 0 0 3 0 1 0 0 1 3 3 0 2 0 1 1 3 3 0 3\n",
      " 1 2 0 0 3 3 0 1 2 2 3 1 2 0 1 3 1 0 3 2 0 0 3 2 3 2 0 3 1 0 1 2 3 2 1 0 0\n",
      " 1 2 1 1 1 1 3 1 2 0 3 3 3 0 0 0 2 3 1]\n"
     ]
    }
   ],
   "source": [
    "ypred_m4=m4.predict(x_test)\n",
    "print(ypred_m4)"
   ]
  },
  {
   "cell_type": "code",
   "execution_count": 75,
   "id": "b02f7caf",
   "metadata": {},
   "outputs": [],
   "source": [
    "from sklearn.metrics import confusion_matrix,classification_report"
   ]
  },
  {
   "cell_type": "code",
   "execution_count": 76,
   "id": "769ff503",
   "metadata": {},
   "outputs": [
    {
     "name": "stdout",
     "output_type": "stream",
     "text": [
      "[[121  11   0   0]\n",
      " [ 11  97  10   0]\n",
      " [  0  19  82  19]\n",
      " [  0   0  17 113]]\n",
      "              precision    recall  f1-score   support\n",
      "\n",
      "           0       0.92      0.92      0.92       132\n",
      "           1       0.76      0.82      0.79       118\n",
      "           2       0.75      0.68      0.72       120\n",
      "           3       0.86      0.87      0.86       130\n",
      "\n",
      "    accuracy                           0.83       500\n",
      "   macro avg       0.82      0.82      0.82       500\n",
      "weighted avg       0.83      0.83      0.83       500\n",
      "\n"
     ]
    }
   ],
   "source": [
    "print(confusion_matrix(y_test,ypred_m4))\n",
    "print(classification_report(y_test,ypred_m4))"
   ]
  },
  {
   "cell_type": "code",
   "execution_count": 77,
   "id": "a99a0855",
   "metadata": {},
   "outputs": [
    {
     "name": "stdout",
     "output_type": "stream",
     "text": [
      "train score 0.826\n"
     ]
    }
   ],
   "source": [
    "print('train score',m4.score(x_test,y_test))"
   ]
  },
  {
   "cell_type": "code",
   "execution_count": 78,
   "id": "f55e3f34",
   "metadata": {},
   "outputs": [
    {
     "name": "stdout",
     "output_type": "stream",
     "text": [
      "Index(['battery_power', 'blue', 'clock_speed', 'dual_sim', 'fc', 'four_g',\n",
      "       'int_memory', 'm_dep', 'mobile_wt', 'n_cores', 'pc', 'px_height',\n",
      "       'px_width', 'ram', 'sc_h', 'sc_w', 'talk_time', 'three_g',\n",
      "       'touch_screen', 'wifi'],\n",
      "      dtype='object')\n",
      "['0', '1']\n"
     ]
    }
   ],
   "source": [
    "fn = x_train.columns\n",
    "cn = ['0','1']\n",
    "print(fn)\n",
    "print(cn)"
   ]
  },
  {
   "cell_type": "code",
   "execution_count": 86,
   "id": "c011b80d",
   "metadata": {},
   "outputs": [],
   "source": [
    "from sklearn.tree import plot_tree\n",
    "import pandas as pd\n",
    "import matplotlib.pyplot as plt"
   ]
  },
  {
   "cell_type": "code",
   "execution_count": 89,
   "id": "1bd69f51",
   "metadata": {},
   "outputs": [
    {
     "ename": "AttributeError",
     "evalue": "'LogisticRegression' object has no attribute 'tree_'",
     "output_type": "error",
     "traceback": [
      "\u001b[1;31m---------------------------------------------------------------------------\u001b[0m",
      "\u001b[1;31mAttributeError\u001b[0m                            Traceback (most recent call last)",
      "Input \u001b[1;32mIn [89]\u001b[0m, in \u001b[0;36m<cell line: 1>\u001b[1;34m()\u001b[0m\n\u001b[1;32m----> 1\u001b[0m df\u001b[38;5;241m=\u001b[39m\u001b[43mplot_tree\u001b[49m\u001b[43m(\u001b[49m\u001b[43mm1\u001b[49m\u001b[43m,\u001b[49m\u001b[43mfeature_names\u001b[49m\u001b[38;5;241;43m=\u001b[39;49m\u001b[43mfn\u001b[49m\u001b[43m,\u001b[49m\u001b[43mclass_names\u001b[49m\u001b[38;5;241;43m=\u001b[39;49m\u001b[43mcn\u001b[49m\u001b[43m,\u001b[49m\u001b[43mfilled\u001b[49m\u001b[38;5;241;43m=\u001b[39;49m\u001b[38;5;28;43;01mTrue\u001b[39;49;00m\u001b[43m)\u001b[49m\n\u001b[0;32m      2\u001b[0m plt\u001b[38;5;241m.\u001b[39mshow()\n",
      "File \u001b[1;32m~\\anaconda3\\lib\\site-packages\\sklearn\\tree\\_export.py:195\u001b[0m, in \u001b[0;36mplot_tree\u001b[1;34m(decision_tree, max_depth, feature_names, class_names, label, filled, impurity, node_ids, proportion, rounded, precision, ax, fontsize)\u001b[0m\n\u001b[0;32m    180\u001b[0m check_is_fitted(decision_tree)\n\u001b[0;32m    182\u001b[0m exporter \u001b[38;5;241m=\u001b[39m _MPLTreeExporter(\n\u001b[0;32m    183\u001b[0m     max_depth\u001b[38;5;241m=\u001b[39mmax_depth,\n\u001b[0;32m    184\u001b[0m     feature_names\u001b[38;5;241m=\u001b[39mfeature_names,\n\u001b[1;32m   (...)\u001b[0m\n\u001b[0;32m    193\u001b[0m     fontsize\u001b[38;5;241m=\u001b[39mfontsize,\n\u001b[0;32m    194\u001b[0m )\n\u001b[1;32m--> 195\u001b[0m \u001b[38;5;28;01mreturn\u001b[39;00m \u001b[43mexporter\u001b[49m\u001b[38;5;241;43m.\u001b[39;49m\u001b[43mexport\u001b[49m\u001b[43m(\u001b[49m\u001b[43mdecision_tree\u001b[49m\u001b[43m,\u001b[49m\u001b[43m \u001b[49m\u001b[43max\u001b[49m\u001b[38;5;241;43m=\u001b[39;49m\u001b[43max\u001b[49m\u001b[43m)\u001b[49m\n",
      "File \u001b[1;32m~\\anaconda3\\lib\\site-packages\\sklearn\\tree\\_export.py:656\u001b[0m, in \u001b[0;36m_MPLTreeExporter.export\u001b[1;34m(self, decision_tree, ax)\u001b[0m\n\u001b[0;32m    654\u001b[0m ax\u001b[38;5;241m.\u001b[39mclear()\n\u001b[0;32m    655\u001b[0m ax\u001b[38;5;241m.\u001b[39mset_axis_off()\n\u001b[1;32m--> 656\u001b[0m my_tree \u001b[38;5;241m=\u001b[39m \u001b[38;5;28mself\u001b[39m\u001b[38;5;241m.\u001b[39m_make_tree(\u001b[38;5;241m0\u001b[39m, \u001b[43mdecision_tree\u001b[49m\u001b[38;5;241;43m.\u001b[39;49m\u001b[43mtree_\u001b[49m, decision_tree\u001b[38;5;241m.\u001b[39mcriterion)\n\u001b[0;32m    657\u001b[0m draw_tree \u001b[38;5;241m=\u001b[39m buchheim(my_tree)\n\u001b[0;32m    659\u001b[0m \u001b[38;5;66;03m# important to make sure we're still\u001b[39;00m\n\u001b[0;32m    660\u001b[0m \u001b[38;5;66;03m# inside the axis after drawing the box\u001b[39;00m\n\u001b[0;32m    661\u001b[0m \u001b[38;5;66;03m# this makes sense because the width of a box\u001b[39;00m\n\u001b[0;32m    662\u001b[0m \u001b[38;5;66;03m# is about the same as the distance between boxes\u001b[39;00m\n",
      "\u001b[1;31mAttributeError\u001b[0m: 'LogisticRegression' object has no attribute 'tree_'"
     ]
    },
    {
     "data": {
      "image/png": "[encoded data removed]",
      "text/plain": [
       "<Figure size 432x288 with 1 Axes>"
      ]
     },
     "metadata": {
      "needs_background": "light"
     },
     "output_type": "display_data"
    }
   ],
   "source": [
    "plot_tree(m1,feature_names=fn,class_names=cn,filled=True)\n",
    "plt.show()"
   ]
  },
  {
   "cell_type": "markdown",
   "id": "3c95769b",
   "metadata": {},
   "source": [
    "# (e)Random forest Classifier\n",
    "\n"
   ]
  },
  {
   "cell_type": "code",
   "execution_count": 58,
   "id": "5118604b",
   "metadata": {},
   "outputs": [],
   "source": [
    "from sklearn.ensemble import RandomForestClassifier"
   ]
  },
  {
   "cell_type": "code",
   "execution_count": 59,
   "id": "ba453d34",
   "metadata": {},
   "outputs": [
    {
     "data": {
      "text/plain": [
       "RandomForestClassifier(criterion='entropy', max_depth=7, n_estimators=80)"
      ]
     },
     "execution_count": 59,
     "metadata": {},
     "output_type": "execute_result"
    }
   ],
   "source": [
    "m5=RandomForestClassifier(n_estimators=80,criterion='entropy',max_depth=7)\n",
    "m5.fit(x_train,y_train)"
   ]
  },
  {
   "cell_type": "code",
   "execution_count": 60,
   "id": "5963e48b",
   "metadata": {},
   "outputs": [
    {
     "name": "stdout",
     "output_type": "stream",
     "text": [
      "training score 0.9826666666666667\n",
      "testing score 0.864\n"
     ]
    }
   ],
   "source": [
    "nscore(m5)"
   ]
  },
  {
   "cell_type": "code",
   "execution_count": 61,
   "id": "1b7bf1b2",
   "metadata": {},
   "outputs": [
    {
     "name": "stdout",
     "output_type": "stream",
     "text": [
      "[[121  11   0   0]\n",
      " [  9  98  11   0]\n",
      " [  0  15  93  12]\n",
      " [  0   0  10 120]]\n",
      "              precision    recall  f1-score   support\n",
      "\n",
      "           0       0.93      0.92      0.92       132\n",
      "           1       0.79      0.83      0.81       118\n",
      "           2       0.82      0.78      0.79       120\n",
      "           3       0.91      0.92      0.92       130\n",
      "\n",
      "    accuracy                           0.86       500\n",
      "   macro avg       0.86      0.86      0.86       500\n",
      "weighted avg       0.86      0.86      0.86       500\n",
      "\n"
     ]
    }
   ],
   "source": [
    "ypred_m5=m5.predict(x_test)\n",
    "eval_model(y_test,ypred_m5)"
   ]
  },
  {
   "cell_type": "code",
   "execution_count": 62,
   "id": "2b8480cb",
   "metadata": {},
   "outputs": [
    {
     "name": "stdout",
     "output_type": "stream",
     "text": [
      "train score 0.9826666666666667\n",
      "train score 0.864\n"
     ]
    }
   ],
   "source": [
    "#Accuracy\n",
    "print('train score',m5.score(x_train,y_train))\n",
    "print('train score',m5.score(x_test,y_test))"
   ]
  },
  {
   "cell_type": "code",
   "execution_count": 63,
   "id": "3b240fc0",
   "metadata": {},
   "outputs": [
    {
     "name": "stdout",
     "output_type": "stream",
     "text": [
      "[0 2 1 3 1 2 2 0 3 1 0 0 2 3 3 2 3 3 1 0 0 1 1 1 0 1 2 2 2 0 0 0 3 0 1 1 2\n",
      " 0 3 0 2 3 3 0 3 3 2 1 3 1 3 1 0 0 1 1 1 3 0 0 0 3 3 1 0 0 3 3 1 2 2 3 0 1\n",
      " 3 0 0 3 2 2 3 2 1 0 1 3 2 3 3 0 3 3 2 1 3 2 2 3 2 1 0 0 1 0 0 3 2 0 1 1 0\n",
      " 0 3 1 2 2 3 2 0 2 1 3 2 1 3 3 0 2 1 2 3 0 2 2 0 2 1 0 0 2 3 0 2 3 0 0 0 1\n",
      " 2 2 3 1 1 0 2 2 0 1 0 2 2 3 3 2 1 0 0 2 2 3 3 1 0 0 3 1 1 2 1 0 0 0 0 0 3\n",
      " 2 0 3 0 0 0 0 1 3 3 1 0 1 2 1 1 2 2 3 2 3 1 2 0 0 0 1 1 1 3 1 0 2 2 1 3 1\n",
      " 3 0 0 2 1 3 0 0 1 0 1 3 2 0 1 2 3 0 1 3 2 3 0 3 1 2 3 3 2 1 1 3 3 1 3 3 3\n",
      " 3 3 1 1 2 2 2 2 0 2 3 2 2 2 1 0 2 0 2 3 1 3 1 0 3 1 2 0 0 3 0 1 2 3 3 3 1\n",
      " 1 0 1 3 3 0 1 2 2 0 3 3 2 3 1 3 2 0 2 1 2 1 0 0 1 3 3 3 1 0 1 0 2 2 2 0 3\n",
      " 3 2 1 3 0 0 3 1 3 2 0 1 1 2 1 1 3 1 0 0 3 3 0 3 0 0 2 0 0 2 2 2 3 0 3 2 2\n",
      " 3 3 3 2 1 2 0 3 2 3 3 0 2 3 2 3 3 3 0 0 2 3 0 0 2 3 1 1 1 2 1 2 0 3 1 2 0\n",
      " 0 1 0 1 0 2 1 1 3 3 2 1 1 3 1 0 3 1 0 1 3 0 1 1 0 1 3 3 0 2 1 1 1 3 3 1 2\n",
      " 0 2 0 0 3 3 0 2 2 1 3 1 1 0 1 3 1 0 3 1 0 0 3 2 3 2 0 2 1 0 1 2 3 2 1 1 0\n",
      " 1 2 2 1 1 1 3 1 2 0 3 3 3 0 0 1 2 3 1]\n"
     ]
    }
   ],
   "source": [
    "ypred_m5=m5.predict(x_test)\n",
    "print(ypred_m5)"
   ]
  },
  {
   "cell_type": "code",
   "execution_count": 64,
   "id": "6bd429f9",
   "metadata": {},
   "outputs": [],
   "source": [
    "from sklearn.metrics import confusion_matrix,classification_report"
   ]
  },
  {
   "cell_type": "code",
   "execution_count": 65,
   "id": "b7dde334",
   "metadata": {},
   "outputs": [
    {
     "name": "stdout",
     "output_type": "stream",
     "text": [
      "[[121  11   0   0]\n",
      " [  9  98  11   0]\n",
      " [  0  15  93  12]\n",
      " [  0   0  10 120]]\n",
      "              precision    recall  f1-score   support\n",
      "\n",
      "           0       0.93      0.92      0.92       132\n",
      "           1       0.79      0.83      0.81       118\n",
      "           2       0.82      0.78      0.79       120\n",
      "           3       0.91      0.92      0.92       130\n",
      "\n",
      "    accuracy                           0.86       500\n",
      "   macro avg       0.86      0.86      0.86       500\n",
      "weighted avg       0.86      0.86      0.86       500\n",
      "\n"
     ]
    }
   ],
   "source": [
    "print(confusion_matrix(y_test,ypred_m5))\n",
    "print(classification_report(y_test,ypred_m5))"
   ]
  },
  {
   "cell_type": "code",
   "execution_count": 66,
   "id": "6aac1617",
   "metadata": {},
   "outputs": [
    {
     "name": "stdout",
     "output_type": "stream",
     "text": [
      "train score 0.864\n"
     ]
    }
   ],
   "source": [
    "print('train score',m5.score(x_test,y_test))"
   ]
  }
 ],
 "metadata": {
  "kernelspec": {
   "display_name": "Python 3 (ipykernel)",
   "language": "python",
   "name": "python3"
  },
  "language_info": {
   "codemirror_mode": {
    "name": "ipython",
    "version": 3
   },
   "file_extension": ".py",
   "mimetype": "text/x-python",
   "name": "python",
   "nbconvert_exporter": "python",
   "pygments_lexer": "ipython3",
   "version": "3.9.12"
  }
 },
 "nbformat": 4,
 "nbformat_minor": 5
}
